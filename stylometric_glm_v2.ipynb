{
 "cells": [
  {
   "cell_type": "code",
   "execution_count": 22,
   "metadata": {},
   "outputs": [
    {
     "name": "stdout",
     "output_type": "stream",
     "text": [
      "Collecting package metadata (current_repodata.json): done\n",
      "Solving environment: done\n",
      "\n",
      "# All requested packages already installed.\n",
      "\n"
     ]
    }
   ],
   "source": [
    "!conda install -c conda-forge -y glmnet"
   ]
  },
  {
   "cell_type": "code",
   "execution_count": 23,
   "metadata": {},
   "outputs": [
    {
     "name": "stdout",
     "output_type": "stream",
     "text": [
      "Requirement already satisfied: imbalanced-learn in /opt/conda/lib/python3.8/site-packages (0.9.1)\n",
      "Requirement already satisfied: joblib>=1.0.0 in /opt/conda/lib/python3.8/site-packages (from imbalanced-learn) (1.1.0)\n",
      "Requirement already satisfied: scikit-learn>=1.1.0 in /opt/conda/lib/python3.8/site-packages (from imbalanced-learn) (1.1.1)\n",
      "Requirement already satisfied: scipy>=1.3.2 in /opt/conda/lib/python3.8/site-packages (from imbalanced-learn) (1.7.1)\n",
      "Requirement already satisfied: numpy>=1.17.3 in /opt/conda/lib/python3.8/site-packages (from imbalanced-learn) (1.22.3)\n",
      "Requirement already satisfied: threadpoolctl>=2.0.0 in /opt/conda/lib/python3.8/site-packages (from imbalanced-learn) (2.2.0)\n",
      "\u001b[33mWARNING: Running pip as the 'root' user can result in broken permissions and conflicting behaviour with the system package manager. It is recommended to use a virtual environment instead: https://pip.pypa.io/warnings/venv\u001b[0m\u001b[33m\n",
      "\u001b[0m\u001b[33mWARNING: There was an error checking the latest version of pip.\u001b[0m\u001b[33m\n",
      "\u001b[0m"
     ]
    }
   ],
   "source": [
    "!pip install imbalanced-learn\n"
   ]
  },
  {
   "cell_type": "code",
   "execution_count": 16,
   "metadata": {},
   "outputs": [
    {
     "name": "stdout",
     "output_type": "stream",
     "text": [
      "Requirement already satisfied: glmnet_py in /opt/conda/lib/python3.8/site-packages (0.1.0b2)\n",
      "Requirement already satisfied: joblib>=0.10.3 in /opt/conda/lib/python3.8/site-packages (from glmnet_py) (1.1.0)\n",
      "\u001b[33mWARNING: Running pip as the 'root' user can result in broken permissions and conflicting behaviour with the system package manager. It is recommended to use a virtual environment instead: https://pip.pypa.io/warnings/venv\u001b[0m\u001b[33m\n",
      "\u001b[0m\u001b[33mWARNING: There was an error checking the latest version of pip.\u001b[0m\u001b[33m\n",
      "\u001b[0m"
     ]
    }
   ],
   "source": [
    "#!pip install glmnet_py\n"
   ]
  },
  {
   "cell_type": "code",
   "execution_count": 24,
   "metadata": {},
   "outputs": [],
   "source": [
    "import pandas as pd\n",
    "import numpy as np\n",
    "import scipy.stats\n",
    "from scipy import sparse\n",
    "from sklearn.model_selection import train_test_split\n",
    "from imblearn.over_sampling import SMOTE \n",
    "from scipy.sparse import coo_matrix, csr_matrix, hstack\n",
    "# Plotting library\n",
    "import matplotlib.pyplot as plt "
   ]
  },
  {
   "cell_type": "markdown",
   "metadata": {},
   "source": [
    "# Read in data set\n",
    "\n",
    "* read in dataset (train.csv and train.csr) and convert it into a sparse matrix\n",
    "* count the numbers of label, 0 (credible) and 1 (non-credible)\n",
    "* split the dataset into train (70%) and test data set (30%) "
   ]
  },
  {
   "cell_type": "code",
   "execution_count": 25,
   "metadata": {},
   "outputs": [
    {
     "data": {
      "text/plain": [
       "1    181\n",
       "0     17\n",
       "Name: y, dtype: int64"
      ]
     },
     "execution_count": 25,
     "metadata": {},
     "output_type": "execute_result"
    }
   ],
   "source": [
    "dense = pd.read_csv(\"./train.tsv\", sep=\"\\t\")\n",
    "\n",
    "dense['y'].value_counts()"
   ]
  },
  {
   "cell_type": "code",
   "execution_count": 26,
   "metadata": {},
   "outputs": [
    {
     "data": {
      "text/html": [
       "<div>\n",
       "<style scoped>\n",
       "    .dataframe tbody tr th:only-of-type {\n",
       "        vertical-align: middle;\n",
       "    }\n",
       "\n",
       "    .dataframe tbody tr th {\n",
       "        vertical-align: top;\n",
       "    }\n",
       "\n",
       "    .dataframe thead th {\n",
       "        text-align: right;\n",
       "    }\n",
       "</style>\n",
       "<table border=\"1\" class=\"dataframe\">\n",
       "  <thead>\n",
       "    <tr style=\"text-align: right;\">\n",
       "      <th></th>\n",
       "      <th>y</th>\n",
       "      <th>source</th>\n",
       "      <th>topic</th>\n",
       "      <th>sentenceNum</th>\n",
       "      <th>meanWordLength</th>\n",
       "      <th>meanSentenceLength</th>\n",
       "      <th>wordscased</th>\n",
       "      <th>wordsCased</th>\n",
       "      <th>wordsCASED</th>\n",
       "      <th>wordsCaSeD</th>\n",
       "      <th>...</th>\n",
       "      <th>GI_wlbpt</th>\n",
       "      <th>GI_wlbtot</th>\n",
       "      <th>GI_wltoth</th>\n",
       "      <th>GI_wltpt</th>\n",
       "      <th>GI_wlttot</th>\n",
       "      <th>GI_wlttran</th>\n",
       "      <th>GI_work</th>\n",
       "      <th>GI_yes</th>\n",
       "      <th>GI_you</th>\n",
       "      <th>GI_total</th>\n",
       "    </tr>\n",
       "  </thead>\n",
       "  <tbody>\n",
       "    <tr>\n",
       "      <th>0</th>\n",
       "      <td>1</td>\n",
       "      <td>yournewswire.com</td>\n",
       "      <td>15</td>\n",
       "      <td>9.0</td>\n",
       "      <td>4.230032</td>\n",
       "      <td>34.777778</td>\n",
       "      <td>0.834008</td>\n",
       "      <td>0.145749</td>\n",
       "      <td>0.008097</td>\n",
       "      <td>0.012146</td>\n",
       "      <td>...</td>\n",
       "      <td>0.000000</td>\n",
       "      <td>0.040000</td>\n",
       "      <td>0.074286</td>\n",
       "      <td>0.051429</td>\n",
       "      <td>0.131429</td>\n",
       "      <td>0.011429</td>\n",
       "      <td>0.108571</td>\n",
       "      <td>0.011429</td>\n",
       "      <td>0.000000</td>\n",
       "      <td>0.559105</td>\n",
       "    </tr>\n",
       "    <tr>\n",
       "      <th>1</th>\n",
       "      <td>1</td>\n",
       "      <td>worldtruth.tv</td>\n",
       "      <td>61</td>\n",
       "      <td>20.0</td>\n",
       "      <td>4.010327</td>\n",
       "      <td>29.050000</td>\n",
       "      <td>0.922607</td>\n",
       "      <td>0.071283</td>\n",
       "      <td>0.000000</td>\n",
       "      <td>0.006110</td>\n",
       "      <td>...</td>\n",
       "      <td>0.002865</td>\n",
       "      <td>0.060172</td>\n",
       "      <td>0.008596</td>\n",
       "      <td>0.000000</td>\n",
       "      <td>0.005731</td>\n",
       "      <td>0.000000</td>\n",
       "      <td>0.083095</td>\n",
       "      <td>0.002865</td>\n",
       "      <td>0.002865</td>\n",
       "      <td>0.600688</td>\n",
       "    </tr>\n",
       "    <tr>\n",
       "      <th>2</th>\n",
       "      <td>1</td>\n",
       "      <td>beforeitsnews.com</td>\n",
       "      <td>23</td>\n",
       "      <td>37.0</td>\n",
       "      <td>4.441466</td>\n",
       "      <td>30.243243</td>\n",
       "      <td>0.879121</td>\n",
       "      <td>0.100000</td>\n",
       "      <td>0.005495</td>\n",
       "      <td>0.015385</td>\n",
       "      <td>...</td>\n",
       "      <td>0.000000</td>\n",
       "      <td>0.039801</td>\n",
       "      <td>0.039801</td>\n",
       "      <td>0.001658</td>\n",
       "      <td>0.041459</td>\n",
       "      <td>0.001658</td>\n",
       "      <td>0.067993</td>\n",
       "      <td>0.003317</td>\n",
       "      <td>0.001658</td>\n",
       "      <td>0.538874</td>\n",
       "    </tr>\n",
       "    <tr>\n",
       "      <th>3</th>\n",
       "      <td>1</td>\n",
       "      <td>newzmagazine.com</td>\n",
       "      <td>73</td>\n",
       "      <td>20.0</td>\n",
       "      <td>4.043353</td>\n",
       "      <td>17.300000</td>\n",
       "      <td>0.809524</td>\n",
       "      <td>0.186813</td>\n",
       "      <td>0.003663</td>\n",
       "      <td>0.000000</td>\n",
       "      <td>...</td>\n",
       "      <td>0.004975</td>\n",
       "      <td>0.099502</td>\n",
       "      <td>0.024876</td>\n",
       "      <td>0.024876</td>\n",
       "      <td>0.049751</td>\n",
       "      <td>0.004975</td>\n",
       "      <td>0.084577</td>\n",
       "      <td>0.000000</td>\n",
       "      <td>0.000000</td>\n",
       "      <td>0.580925</td>\n",
       "    </tr>\n",
       "    <tr>\n",
       "      <th>4</th>\n",
       "      <td>1</td>\n",
       "      <td>freedomdaily.com</td>\n",
       "      <td>40</td>\n",
       "      <td>71.0</td>\n",
       "      <td>4.282853</td>\n",
       "      <td>17.577465</td>\n",
       "      <td>0.817374</td>\n",
       "      <td>0.174729</td>\n",
       "      <td>0.003949</td>\n",
       "      <td>0.003949</td>\n",
       "      <td>...</td>\n",
       "      <td>0.000000</td>\n",
       "      <td>0.034713</td>\n",
       "      <td>0.017356</td>\n",
       "      <td>0.008011</td>\n",
       "      <td>0.020027</td>\n",
       "      <td>0.001335</td>\n",
       "      <td>0.094793</td>\n",
       "      <td>0.009346</td>\n",
       "      <td>0.001335</td>\n",
       "      <td>0.600160</td>\n",
       "    </tr>\n",
       "    <tr>\n",
       "      <th>...</th>\n",
       "      <td>...</td>\n",
       "      <td>...</td>\n",
       "      <td>...</td>\n",
       "      <td>...</td>\n",
       "      <td>...</td>\n",
       "      <td>...</td>\n",
       "      <td>...</td>\n",
       "      <td>...</td>\n",
       "      <td>...</td>\n",
       "      <td>...</td>\n",
       "      <td>...</td>\n",
       "      <td>...</td>\n",
       "      <td>...</td>\n",
       "      <td>...</td>\n",
       "      <td>...</td>\n",
       "      <td>...</td>\n",
       "      <td>...</td>\n",
       "      <td>...</td>\n",
       "      <td>...</td>\n",
       "      <td>...</td>\n",
       "      <td>...</td>\n",
       "    </tr>\n",
       "    <tr>\n",
       "      <th>193</th>\n",
       "      <td>0</td>\n",
       "      <td>www.theguardian.com</td>\n",
       "      <td>3</td>\n",
       "      <td>33.0</td>\n",
       "      <td>3.975687</td>\n",
       "      <td>28.666667</td>\n",
       "      <td>0.802539</td>\n",
       "      <td>0.184767</td>\n",
       "      <td>0.002821</td>\n",
       "      <td>0.009873</td>\n",
       "      <td>...</td>\n",
       "      <td>0.006110</td>\n",
       "      <td>0.069246</td>\n",
       "      <td>0.014257</td>\n",
       "      <td>0.000000</td>\n",
       "      <td>0.018330</td>\n",
       "      <td>0.006110</td>\n",
       "      <td>0.054990</td>\n",
       "      <td>0.014257</td>\n",
       "      <td>0.044807</td>\n",
       "      <td>0.519027</td>\n",
       "    </tr>\n",
       "    <tr>\n",
       "      <th>194</th>\n",
       "      <td>0</td>\n",
       "      <td>www.bloomberg.com</td>\n",
       "      <td>26</td>\n",
       "      <td>128.0</td>\n",
       "      <td>3.909564</td>\n",
       "      <td>19.523438</td>\n",
       "      <td>0.735124</td>\n",
       "      <td>0.245392</td>\n",
       "      <td>0.003160</td>\n",
       "      <td>0.016324</td>\n",
       "      <td>...</td>\n",
       "      <td>0.000000</td>\n",
       "      <td>0.038431</td>\n",
       "      <td>0.022418</td>\n",
       "      <td>0.004003</td>\n",
       "      <td>0.022418</td>\n",
       "      <td>0.001601</td>\n",
       "      <td>0.053643</td>\n",
       "      <td>0.028823</td>\n",
       "      <td>0.015212</td>\n",
       "      <td>0.499800</td>\n",
       "    </tr>\n",
       "    <tr>\n",
       "      <th>195</th>\n",
       "      <td>0</td>\n",
       "      <td>www.newyorker.com</td>\n",
       "      <td>69</td>\n",
       "      <td>47.0</td>\n",
       "      <td>3.731765</td>\n",
       "      <td>45.212766</td>\n",
       "      <td>0.855383</td>\n",
       "      <td>0.119974</td>\n",
       "      <td>0.003891</td>\n",
       "      <td>0.020752</td>\n",
       "      <td>...</td>\n",
       "      <td>0.000000</td>\n",
       "      <td>0.040084</td>\n",
       "      <td>0.034810</td>\n",
       "      <td>0.001055</td>\n",
       "      <td>0.035865</td>\n",
       "      <td>0.003165</td>\n",
       "      <td>0.058017</td>\n",
       "      <td>0.008439</td>\n",
       "      <td>0.012658</td>\n",
       "      <td>0.446118</td>\n",
       "    </tr>\n",
       "    <tr>\n",
       "      <th>196</th>\n",
       "      <td>0</td>\n",
       "      <td>www.politico.com</td>\n",
       "      <td>46</td>\n",
       "      <td>35.0</td>\n",
       "      <td>4.371005</td>\n",
       "      <td>25.028571</td>\n",
       "      <td>0.853994</td>\n",
       "      <td>0.139118</td>\n",
       "      <td>0.000000</td>\n",
       "      <td>0.006887</td>\n",
       "      <td>...</td>\n",
       "      <td>0.000000</td>\n",
       "      <td>0.074510</td>\n",
       "      <td>0.154902</td>\n",
       "      <td>0.011765</td>\n",
       "      <td>0.133333</td>\n",
       "      <td>0.052941</td>\n",
       "      <td>0.054902</td>\n",
       "      <td>0.005882</td>\n",
       "      <td>0.000000</td>\n",
       "      <td>0.582192</td>\n",
       "    </tr>\n",
       "    <tr>\n",
       "      <th>197</th>\n",
       "      <td>0</td>\n",
       "      <td>www.foxnews.com</td>\n",
       "      <td>87</td>\n",
       "      <td>32.0</td>\n",
       "      <td>4.399766</td>\n",
       "      <td>26.656250</td>\n",
       "      <td>0.839150</td>\n",
       "      <td>0.119879</td>\n",
       "      <td>0.001517</td>\n",
       "      <td>0.039454</td>\n",
       "      <td>...</td>\n",
       "      <td>0.004292</td>\n",
       "      <td>0.034335</td>\n",
       "      <td>0.182403</td>\n",
       "      <td>0.032189</td>\n",
       "      <td>0.197425</td>\n",
       "      <td>0.012876</td>\n",
       "      <td>0.051502</td>\n",
       "      <td>0.000000</td>\n",
       "      <td>0.000000</td>\n",
       "      <td>0.546307</td>\n",
       "    </tr>\n",
       "  </tbody>\n",
       "</table>\n",
       "<p>198 rows × 193 columns</p>\n",
       "</div>"
      ],
      "text/plain": [
       "     y               source  topic  sentenceNum  meanWordLength  \\\n",
       "0    1     yournewswire.com     15          9.0        4.230032   \n",
       "1    1        worldtruth.tv     61         20.0        4.010327   \n",
       "2    1    beforeitsnews.com     23         37.0        4.441466   \n",
       "3    1     newzmagazine.com     73         20.0        4.043353   \n",
       "4    1     freedomdaily.com     40         71.0        4.282853   \n",
       "..  ..                  ...    ...          ...             ...   \n",
       "193  0  www.theguardian.com      3         33.0        3.975687   \n",
       "194  0    www.bloomberg.com     26        128.0        3.909564   \n",
       "195  0    www.newyorker.com     69         47.0        3.731765   \n",
       "196  0     www.politico.com     46         35.0        4.371005   \n",
       "197  0      www.foxnews.com     87         32.0        4.399766   \n",
       "\n",
       "     meanSentenceLength  wordscased  wordsCased  wordsCASED  wordsCaSeD  ...  \\\n",
       "0             34.777778    0.834008    0.145749    0.008097    0.012146  ...   \n",
       "1             29.050000    0.922607    0.071283    0.000000    0.006110  ...   \n",
       "2             30.243243    0.879121    0.100000    0.005495    0.015385  ...   \n",
       "3             17.300000    0.809524    0.186813    0.003663    0.000000  ...   \n",
       "4             17.577465    0.817374    0.174729    0.003949    0.003949  ...   \n",
       "..                  ...         ...         ...         ...         ...  ...   \n",
       "193           28.666667    0.802539    0.184767    0.002821    0.009873  ...   \n",
       "194           19.523438    0.735124    0.245392    0.003160    0.016324  ...   \n",
       "195           45.212766    0.855383    0.119974    0.003891    0.020752  ...   \n",
       "196           25.028571    0.853994    0.139118    0.000000    0.006887  ...   \n",
       "197           26.656250    0.839150    0.119879    0.001517    0.039454  ...   \n",
       "\n",
       "     GI_wlbpt  GI_wlbtot  GI_wltoth  GI_wltpt  GI_wlttot  GI_wlttran  \\\n",
       "0    0.000000   0.040000   0.074286  0.051429   0.131429    0.011429   \n",
       "1    0.002865   0.060172   0.008596  0.000000   0.005731    0.000000   \n",
       "2    0.000000   0.039801   0.039801  0.001658   0.041459    0.001658   \n",
       "3    0.004975   0.099502   0.024876  0.024876   0.049751    0.004975   \n",
       "4    0.000000   0.034713   0.017356  0.008011   0.020027    0.001335   \n",
       "..        ...        ...        ...       ...        ...         ...   \n",
       "193  0.006110   0.069246   0.014257  0.000000   0.018330    0.006110   \n",
       "194  0.000000   0.038431   0.022418  0.004003   0.022418    0.001601   \n",
       "195  0.000000   0.040084   0.034810  0.001055   0.035865    0.003165   \n",
       "196  0.000000   0.074510   0.154902  0.011765   0.133333    0.052941   \n",
       "197  0.004292   0.034335   0.182403  0.032189   0.197425    0.012876   \n",
       "\n",
       "      GI_work    GI_yes    GI_you  GI_total  \n",
       "0    0.108571  0.011429  0.000000  0.559105  \n",
       "1    0.083095  0.002865  0.002865  0.600688  \n",
       "2    0.067993  0.003317  0.001658  0.538874  \n",
       "3    0.084577  0.000000  0.000000  0.580925  \n",
       "4    0.094793  0.009346  0.001335  0.600160  \n",
       "..        ...       ...       ...       ...  \n",
       "193  0.054990  0.014257  0.044807  0.519027  \n",
       "194  0.053643  0.028823  0.015212  0.499800  \n",
       "195  0.058017  0.008439  0.012658  0.446118  \n",
       "196  0.054902  0.005882  0.000000  0.582192  \n",
       "197  0.051502  0.000000  0.000000  0.546307  \n",
       "\n",
       "[198 rows x 193 columns]"
      ]
     },
     "execution_count": 26,
     "metadata": {},
     "output_type": "execute_result"
    }
   ],
   "source": [
    "dense"
   ]
  },
  {
   "cell_type": "code",
   "execution_count": 27,
   "metadata": {},
   "outputs": [
    {
     "data": {
      "text/plain": [
       "<198x3829 sparse matrix of type '<class 'numpy.float64'>'\n",
       "\twith 107751 stored elements in COOrdinate format>"
      ]
     },
     "execution_count": 27,
     "metadata": {},
     "output_type": "execute_result"
    }
   ],
   "source": [
    "# read in the sparse file (i.e train.csr)\n",
    "\n",
    "\n",
    "X_data = []\n",
    "X_row, X_col = [], []\n",
    "\n",
    "\n",
    "with open(\"./train.csr\", \"r\") as f:\n",
    "    lines = f.read().splitlines()\n",
    "    max = 0\n",
    "    row_count = 0\n",
    "    for line in lines[0:]:\n",
    "        parts = line.split(\" \")\n",
    "        label = parts[0]\n",
    "        \n",
    "        \n",
    "\n",
    "        #print(parts[1:])\n",
    "        for row_idx, data in enumerate(parts[1:]):\n",
    "            #print(row_idx)\n",
    "            #print(data)\n",
    "            \n",
    "            col_idx = int(data.split(\":\")[0]) - 1\n",
    "            X_row.append(row_count)\n",
    "            X_col.append(col_idx)\n",
    "            X_data.append(float(data.split(\":\")[1]))\n",
    "\n",
    "        row_count += 1\n",
    "\n",
    "    #print(row_idx)\n",
    "    #print(row_count)\n",
    "    #print(X_row)\n",
    "    \n",
    "    X_col = np.array(X_col)\n",
    "    X_row = np.array(X_row)\n",
    "    X_data = np.array(X_data)    \n",
    "    \n",
    "sparse = coo_matrix((X_data, (X_row, X_col)), dtype=float)    \n",
    "    \n",
    "sparse"
   ]
  },
  {
   "cell_type": "code",
   "execution_count": 28,
   "metadata": {},
   "outputs": [
    {
     "data": {
      "text/plain": [
       "<198x190 sparse matrix of type '<class 'numpy.float64'>'\n",
       "\twith 31373 stored elements in Compressed Sparse Row format>"
      ]
     },
     "execution_count": 28,
     "metadata": {},
     "output_type": "execute_result"
    }
   ],
   "source": [
    "# train.csv into csr matrix\n",
    "csr_matrix(dense.iloc[:, 3:].to_numpy())"
   ]
  },
  {
   "cell_type": "code",
   "execution_count": 29,
   "metadata": {},
   "outputs": [
    {
     "data": {
      "text/plain": [
       "<198x4019 sparse matrix of type '<class 'numpy.float64'>'\n",
       "\twith 139124 stored elements in COOrdinate format>"
      ]
     },
     "execution_count": 29,
     "metadata": {},
     "output_type": "execute_result"
    }
   ],
   "source": [
    "# combine train.csv and train.csr\n",
    "hstack([csr_matrix(dense.iloc[:, 3:].to_numpy()), sparse])"
   ]
  },
  {
   "cell_type": "code",
   "execution_count": 30,
   "metadata": {},
   "outputs": [
    {
     "name": "stdout",
     "output_type": "stream",
     "text": [
      "198\n"
     ]
    }
   ],
   "source": [
    "print(dense.to_numpy().shape[0])\n",
    "\n",
    "allX = hstack([csr_matrix(dense.iloc[:, 3:].to_numpy()), sparse]).toarray() #sparse.csr_matrix(dense.iloc[:, 3:].to_numpy()).toarray() #dense.iloc[:, 3:].to_numpy()\n",
    "\n",
    "allX.shape[1]\n",
    "\n",
    "allY = dense.iloc[:, 0].to_numpy()\n",
    "allS = dense.iloc[:, 1]\n",
    "allT = dense.iloc[:, 2]\n",
    "\n"
   ]
  },
  {
   "cell_type": "code",
   "execution_count": 31,
   "metadata": {},
   "outputs": [],
   "source": [
    "x_train, x_test, y_train, y_test = train_test_split(allX, allY, test_size = 0.30, random_state = 25)\n"
   ]
  },
  {
   "cell_type": "code",
   "execution_count": 32,
   "metadata": {},
   "outputs": [
    {
     "name": "stdout",
     "output_type": "stream",
     "text": [
      "Training records count: 138\n",
      "Testing records count: 60\n",
      "Training features count: 4019\n",
      "Testing features count: 4019\n"
     ]
    }
   ],
   "source": [
    "print(\"Training records count: {}\".format(x_train.shape[0]))\n",
    "print(\"Testing records count: {}\".format(x_test.shape[0]))\n",
    "print(\"Training features count: {}\".format(x_train.shape[1]))\n",
    "print(\"Testing features count: {}\".format(x_test.shape[1]))\n"
   ]
  },
  {
   "cell_type": "markdown",
   "metadata": {},
   "source": [
    "# Prelimniary filtering\n",
    "\n",
    "* compute Pearson correlation of each feature with the output variable \n",
    "\n",
    "First, we check whether feature j is present in document i by computing a binary matrix with elements bi,j =1[xi,j \u0002= 0]. \n",
    "\n",
    "* remove features with absolute value of the correlation coefficient lower than 5%\n",
    "\n",
    "Therefore, we take into account class label y by computing the correlation coefficient and including each feature j such that bj = [b1,j, b2,j, . . .] satisfies |cor(bj , y)| > 0.05. The number of retained features depends on the training-test split, but we observe it to be always below 5%."
   ]
  },
  {
   "cell_type": "code",
   "execution_count": 33,
   "metadata": {},
   "outputs": [],
   "source": [
    "# function use to compute correlation\n",
    "def computeCorrelaion(trainX, trainY):\n",
    "    cors = []\n",
    "    for i in range(trainX.shape[1]):\n",
    "        cor, p = scipy.stats.pearsonr(trainX[:,i], trainY)\n",
    "        cors.append(cor)    \n",
    "    print(np.array(cors))\n",
    "    cors = np.array(cors)\n",
    "    return cors"
   ]
  },
  {
   "cell_type": "code",
   "execution_count": 34,
   "metadata": {},
   "outputs": [],
   "source": [
    "# function use to filter features\n",
    "def filter_features(X, cors, threshold):\n",
    "    #mask = ()\n",
    "    print(\"Original Features Counts: {}\".format(X.shape[1]))\n",
    "    newX = X[:, abs(cors) > threshold]\n",
    "    print(\"Output Features Counts: {}\".format(newX.shape[1]))\n",
    "    #idx = mask.any(axis=0)\n",
    "    #test = allX[:, ~mask]\n",
    "\n",
    "    return newX"
   ]
  },
  {
   "cell_type": "code",
   "execution_count": 35,
   "metadata": {},
   "outputs": [
    {
     "name": "stdout",
     "output_type": "stream",
     "text": [
      "[-0.23861084 -0.01348123 -0.00464604 ... -0.00668315  0.04806064\n",
      " -0.0138414 ]\n"
     ]
    }
   ],
   "source": [
    "cors = computeCorrelaion(x_train, y_train)"
   ]
  },
  {
   "cell_type": "code",
   "execution_count": 36,
   "metadata": {},
   "outputs": [
    {
     "name": "stdout",
     "output_type": "stream",
     "text": [
      "Training Dataset\n",
      "Original Features Counts: 4019\n",
      "Output Features Counts: 2144\n",
      "Testing Dataset\n",
      "Original Features Counts: 4019\n",
      "Output Features Counts: 2144\n"
     ]
    }
   ],
   "source": [
    "print(\"Training Dataset\")\n",
    "x_train = filter_features(x_train, cors, 0.05)\n",
    "print(\"Testing Dataset\")\n",
    "x_test =  filter_features(x_test, cors, 0.05)\n",
    "\n"
   ]
  },
  {
   "cell_type": "markdown",
   "metadata": {},
   "source": [
    "# Building a regularised classifier\n",
    "\n",
    "* Apply a logistic regression model implemented in glmnet"
   ]
  },
  {
   "cell_type": "code",
   "execution_count": 37,
   "metadata": {},
   "outputs": [],
   "source": [
    "from glmnet import LogitNet\n",
    "\n",
    "model = LogitNet(n_splits =5)\n",
    "model = model.fit(x_train, y_train)\n",
    "\n"
   ]
  },
  {
   "cell_type": "code",
   "execution_count": 38,
   "metadata": {},
   "outputs": [
    {
     "data": {
      "text/plain": [
       "array([1, 1, 1, 1, 1, 1, 1, 1, 1, 1, 1, 1, 1, 1, 1, 1, 1, 1, 1, 1, 1, 1,\n",
       "       1, 1, 1, 1, 1, 1, 1, 1, 1, 1, 1, 1, 1, 1, 1, 1, 1, 1, 1, 1, 1, 1,\n",
       "       1, 1, 1, 1, 1, 1, 1, 1, 1, 1, 1, 1, 1, 1, 1, 1])"
      ]
     },
     "execution_count": 38,
     "metadata": {},
     "output_type": "execute_result"
    }
   ],
   "source": [
    "y_pred = model.predict(x_test)\n",
    "\n",
    "y_pred"
   ]
  },
  {
   "cell_type": "markdown",
   "metadata": {},
   "source": [
    "# Model Evaluation\n",
    "\n",
    "* The paper use 5-fold cross validation (CV) scneario and comparing its output to true labels\n",
    "\n",
    "* Three scenarios are considered in the paper\n",
    "    * plain document-based CV, where folds include completely random documents from across the dataset.\n",
    "    * topic-based CV, where each of the LDA topics, generated as described previously, is assigned to one of the CV folds with all associated documents.This scenario simulates a situation when a test document belongs to previously unseen topic, e.g. corresponding to a new event.\n",
    "    * source-based CV, where each of the document sources is assigned to one of the CV folds with all its documents. This allows us to measure the performance expected for articles from previously unseen websites.\n"
   ]
  },
  {
   "cell_type": "code",
   "execution_count": 44,
   "metadata": {},
   "outputs": [],
   "source": [
    "# foldsCV.tsv store the cross valiation information\n",
    "\n",
    "folds = pd.read_csv(\"foldsCV.tsv\", sep=\"\\t\")\n",
    "\n"
   ]
  },
  {
   "cell_type": "code",
   "execution_count": 45,
   "metadata": {},
   "outputs": [],
   "source": [
    "# because we only have 198 lines of items instead of 103,219 lines of item i subset the fold documents\n",
    "\n",
    "foldDocCV = folds['documentCV'].to_numpy()[0: 198,]\n",
    "foldTopicCV = folds['topicCV'].to_numpy()[0: 198,]\n",
    "foldSourceCV = folds['sourceCV'].to_numpy()[0: 198,]\n",
    "\n"
   ]
  },
  {
   "cell_type": "code",
   "execution_count": 46,
   "metadata": {},
   "outputs": [],
   "source": [
    "def foldsRunGLMFiltered(folds, allX, allY, thres):\n",
    "    # initialise any numpy array with all zeros\n",
    "    preds = np.zeros_like(allY)\n",
    "    for i in range(1, np.max(folds) + 1 ):\n",
    "        print(\"Working on fold \" + str(i) + \"\\n\")\n",
    "        trainX = allX[folds!=i,:]\n",
    "        trainY = allY[folds!=i]\n",
    "        testY = allY[folds==i]\n",
    "        print(\"Training \" + str(trainX.shape[0]))\n",
    "        testX = allX[folds==i,:]\n",
    "        print(\"Testing \" + str(testX.shape[0]))\n",
    "        #print(trainY.shape)\n",
    "        print(\"Filtering data\")\n",
    "        cors = computeCorrelaion(trainX, trainY)\n",
    "        print(\"Filtering Training Dataset\")\n",
    "        x_train = filter_features(trainX, cors, thres)\n",
    "        print(\"Filtering Testing Dataset\")\n",
    "        x_test =  filter_features(testX, cors, thres)\n",
    "        #print(x_test.shape[0])\n",
    "        print(\"Building model ...\\n\")\n",
    "        model = LogitNet()\n",
    "        model = model.fit(x_train, trainY)\n",
    "        pred  = model.predict(x_test)\n",
    "        preds[folds==i] = pred\n",
    "        \n",
    "    return preds"
   ]
  },
  {
   "cell_type": "code",
   "execution_count": 47,
   "metadata": {},
   "outputs": [
    {
     "name": "stdout",
     "output_type": "stream",
     "text": [
      "Working on fold 1\n",
      "\n",
      "Training 169\n",
      "Testing 29\n",
      "Filtering data\n",
      "[-0.18905349  0.08085863  0.01773692 ...  0.06490836  0.04622919\n",
      "  0.06429858]\n",
      "Filtering Training Dataset\n",
      "Original Features Counts: 4019\n",
      "Output Features Counts: 1649\n",
      "Filtering Testing Dataset\n",
      "Original Features Counts: 4019\n",
      "Output Features Counts: 1649\n",
      "Building model ...\n",
      "\n",
      "Working on fold 2\n",
      "\n",
      "Training 154\n",
      "Testing 44\n",
      "Filtering data\n",
      "[-0.10482451 -0.00035599 -0.03324698 ... -0.05357819  0.05388308\n",
      " -0.00589752]\n",
      "Filtering Training Dataset\n",
      "Original Features Counts: 4019\n",
      "Output Features Counts: 1897\n",
      "Filtering Testing Dataset\n",
      "Original Features Counts: 4019\n",
      "Output Features Counts: 1897\n",
      "Building model ...\n",
      "\n",
      "Working on fold 3\n",
      "\n",
      "Training 155\n",
      "Testing 43\n",
      "Filtering data\n"
     ]
    },
    {
     "name": "stderr",
     "output_type": "stream",
     "text": [
      "/opt/conda/lib/python3.8/site-packages/scipy/stats/stats.py:4023: PearsonRConstantInputWarning: An input array is constant; the correlation coefficient is not defined.\n",
      "  warnings.warn(PearsonRConstantInputWarning())\n"
     ]
    },
    {
     "name": "stdout",
     "output_type": "stream",
     "text": [
      "[-0.26053632 -0.0220442   0.0488586  ...  0.01304487  0.0526402\n",
      " -0.0172237 ]\n",
      "Filtering Training Dataset\n",
      "Original Features Counts: 4019\n",
      "Output Features Counts: 1797\n",
      "Filtering Testing Dataset\n",
      "Original Features Counts: 4019\n",
      "Output Features Counts: 1797\n",
      "Building model ...\n",
      "\n",
      "Working on fold 4\n",
      "\n",
      "Training 151\n",
      "Testing 47\n",
      "Filtering data\n",
      "[-0.22274492  0.01698147  0.03230323 ... -0.00205587  0.05582845\n",
      " -0.02442466]\n",
      "Filtering Training Dataset\n",
      "Original Features Counts: 4019\n",
      "Output Features Counts: 1893\n",
      "Filtering Testing Dataset\n",
      "Original Features Counts: 4019\n",
      "Output Features Counts: 1893\n",
      "Building model ...\n",
      "\n",
      "Working on fold 5\n",
      "\n",
      "Training 163\n",
      "Testing 35\n",
      "Filtering data\n",
      "[-0.21292397  0.05216918 -0.04333751 ...  0.00119022  0.04380315\n",
      " -0.07185115]\n",
      "Filtering Training Dataset\n",
      "Original Features Counts: 4019\n",
      "Output Features Counts: 1524\n",
      "Filtering Testing Dataset\n",
      "Original Features Counts: 4019\n",
      "Output Features Counts: 1524\n",
      "Building model ...\n",
      "\n"
     ]
    }
   ],
   "source": [
    "predsDocCV = foldsRunGLMFiltered(foldDocCV, allX, allY, 0.05)"
   ]
  },
  {
   "cell_type": "code",
   "execution_count": 48,
   "metadata": {},
   "outputs": [
    {
     "name": "stdout",
     "output_type": "stream",
     "text": [
      "Testing accuracy of the model is 91.41414141414141 %\n",
      "Confusion Matrix:\n",
      "[[  0  17]\n",
      " [  0 181]]\n",
      "              precision    recall  f1-score   support\n",
      "\n",
      "           0       0.00      0.00      0.00        17\n",
      "           1       0.91      1.00      0.96       181\n",
      "\n",
      "    accuracy                           0.91       198\n",
      "   macro avg       0.46      0.50      0.48       198\n",
      "weighted avg       0.84      0.91      0.87       198\n",
      "\n"
     ]
    },
    {
     "name": "stderr",
     "output_type": "stream",
     "text": [
      "/opt/conda/lib/python3.8/site-packages/sklearn/metrics/_classification.py:1327: UndefinedMetricWarning: Precision and F-score are ill-defined and being set to 0.0 in labels with no predicted samples. Use `zero_division` parameter to control this behavior.\n",
      "  _warn_prf(average, modifier, msg_start, len(result))\n",
      "/opt/conda/lib/python3.8/site-packages/sklearn/metrics/_classification.py:1327: UndefinedMetricWarning: Precision and F-score are ill-defined and being set to 0.0 in labels with no predicted samples. Use `zero_division` parameter to control this behavior.\n",
      "  _warn_prf(average, modifier, msg_start, len(result))\n",
      "/opt/conda/lib/python3.8/site-packages/sklearn/metrics/_classification.py:1327: UndefinedMetricWarning: Precision and F-score are ill-defined and being set to 0.0 in labels with no predicted samples. Use `zero_division` parameter to control this behavior.\n",
      "  _warn_prf(average, modifier, msg_start, len(result))\n"
     ]
    },
    {
     "data": {
      "image/png": "[encoded data removed]",
      "text/plain": [
       "<Figure size 432x288 with 2 Axes>"
      ]
     },
     "metadata": {
      "needs_background": "light"
     },
     "output_type": "display_data"
    }
   ],
   "source": [
    "from sklearn.metrics import confusion_matrix\n",
    "\n",
    "# get accuracy score\n",
    "accuracy_major = accuracy_score(allY, predsDocCV) #None\n",
    "print('Testing accuracy of the model is {} %'.format(accuracy_major*100))\n",
    "\n",
    "# confusion matrix to describe the performance of a classification model\n",
    "print(\"Confusion Matrix:\")\n",
    "print(confusion_matrix(allY, predsDocCV)) \n",
    "report = classification_report(allY, predsDocCV) \n",
    "print(report)\n",
    "\n",
    "# confusion matrix visualization\n",
    "ConfusionMatrixDisplay.from_predictions(allY, predsDocCV)\n",
    "plt.show()\n"
   ]
  },
  {
   "cell_type": "code",
   "execution_count": 49,
   "metadata": {},
   "outputs": [
    {
     "name": "stdout",
     "output_type": "stream",
     "text": [
      "Working on fold 1\n",
      "\n",
      "Training 177\n",
      "Testing 21\n",
      "Filtering data\n",
      "[-0.1846266   0.04167669  0.01504704 ...  0.04577186  0.04711561\n",
      " -0.00888101]\n",
      "Filtering Training Dataset\n",
      "Original Features Counts: 4019\n",
      "Output Features Counts: 1607\n",
      "Filtering Testing Dataset\n",
      "Original Features Counts: 4019\n",
      "Output Features Counts: 1607\n",
      "Building model ...\n",
      "\n",
      "Working on fold 2\n",
      "\n",
      "Training 150\n",
      "Testing 48\n",
      "Filtering data\n",
      "[-0.31804103  0.02527668  0.00812214 ...  0.00086175  0.05376347\n",
      " -0.0161681 ]\n",
      "Filtering Training Dataset\n",
      "Original Features Counts: 4019\n",
      "Output Features Counts: 1930\n",
      "Filtering Testing Dataset\n",
      "Original Features Counts: 4019\n",
      "Output Features Counts: 1930\n",
      "Building model ...\n",
      "\n",
      "Working on fold 3\n",
      "\n",
      "Training 171\n",
      "Testing 27\n",
      "Filtering data\n",
      "[-0.19853543  0.04944162 -0.01280824 ... -0.02599842  0.04618832\n",
      "  0.01630335]\n",
      "Filtering Training Dataset\n",
      "Original Features Counts: 4019\n",
      "Output Features Counts: 1508\n",
      "Filtering Testing Dataset\n",
      "Original Features Counts: 4019\n",
      "Output Features Counts: 1508\n",
      "Building model ...\n",
      "\n",
      "Working on fold 4\n",
      "\n",
      "Training 130\n",
      "Testing 68\n",
      "Filtering data\n"
     ]
    },
    {
     "name": "stderr",
     "output_type": "stream",
     "text": [
      "/opt/conda/lib/python3.8/site-packages/scipy/stats/stats.py:4023: PearsonRConstantInputWarning: An input array is constant; the correlation coefficient is not defined.\n",
      "  warnings.warn(PearsonRConstantInputWarning())\n"
     ]
    },
    {
     "name": "stdout",
     "output_type": "stream",
     "text": [
      "[-0.0695064  -0.02061454  0.02109924 ...  0.03116431  0.04665391\n",
      "  0.0043614 ]\n",
      "Filtering Training Dataset\n",
      "Original Features Counts: 4019\n",
      "Output Features Counts: 2150\n",
      "Filtering Testing Dataset\n",
      "Original Features Counts: 4019\n",
      "Output Features Counts: 2150\n",
      "Building model ...\n",
      "\n",
      "Working on fold 5\n",
      "\n",
      "Training 164\n",
      "Testing 34\n",
      "Filtering data\n",
      "[-0.22168588  0.03567041 -0.00684114 ... -0.00541206  0.05060405\n",
      " -0.04205125]\n",
      "Filtering Training Dataset\n",
      "Original Features Counts: 4019\n",
      "Output Features Counts: 1589\n",
      "Filtering Testing Dataset\n",
      "Original Features Counts: 4019\n",
      "Output Features Counts: 1589\n",
      "Building model ...\n",
      "\n"
     ]
    }
   ],
   "source": [
    "predsTopicCV = foldsRunGLMFiltered(foldTopicCV, allX, allY, 0.05)"
   ]
  },
  {
   "cell_type": "code",
   "execution_count": 50,
   "metadata": {},
   "outputs": [
    {
     "name": "stdout",
     "output_type": "stream",
     "text": [
      "Testing accuracy of the model is 91.41414141414141 %\n",
      "Confusion Matrix:\n",
      "[[  0  17]\n",
      " [  0 181]]\n",
      "              precision    recall  f1-score   support\n",
      "\n",
      "           0       0.00      0.00      0.00        17\n",
      "           1       0.91      1.00      0.96       181\n",
      "\n",
      "    accuracy                           0.91       198\n",
      "   macro avg       0.46      0.50      0.48       198\n",
      "weighted avg       0.84      0.91      0.87       198\n",
      "\n"
     ]
    },
    {
     "name": "stderr",
     "output_type": "stream",
     "text": [
      "/opt/conda/lib/python3.8/site-packages/sklearn/metrics/_classification.py:1327: UndefinedMetricWarning: Precision and F-score are ill-defined and being set to 0.0 in labels with no predicted samples. Use `zero_division` parameter to control this behavior.\n",
      "  _warn_prf(average, modifier, msg_start, len(result))\n",
      "/opt/conda/lib/python3.8/site-packages/sklearn/metrics/_classification.py:1327: UndefinedMetricWarning: Precision and F-score are ill-defined and being set to 0.0 in labels with no predicted samples. Use `zero_division` parameter to control this behavior.\n",
      "  _warn_prf(average, modifier, msg_start, len(result))\n",
      "/opt/conda/lib/python3.8/site-packages/sklearn/metrics/_classification.py:1327: UndefinedMetricWarning: Precision and F-score are ill-defined and being set to 0.0 in labels with no predicted samples. Use `zero_division` parameter to control this behavior.\n",
      "  _warn_prf(average, modifier, msg_start, len(result))\n"
     ]
    },
    {
     "data": {
      "image/png": "[encoded data removed]",
      "text/plain": [
       "<Figure size 432x288 with 2 Axes>"
      ]
     },
     "metadata": {
      "needs_background": "light"
     },
     "output_type": "display_data"
    }
   ],
   "source": [
    "from sklearn.metrics import confusion_matrix\n",
    "\n",
    "# get accuracy score\n",
    "accuracy_major = accuracy_score(allY, predsTopicCV) #None\n",
    "print('Testing accuracy of the model is {} %'.format(accuracy_major*100))\n",
    "\n",
    "# confusion matrix to describe the performance of a classification model\n",
    "print(\"Confusion Matrix:\")\n",
    "print(confusion_matrix(allY, predsTopicCV)) \n",
    "report = classification_report(allY, predsTopicCV) \n",
    "print(report)\n",
    "\n",
    "# confusion matrix visualization\n",
    "ConfusionMatrixDisplay.from_predictions(allY, predsTopicCV)\n",
    "plt.show()\n"
   ]
  },
  {
   "cell_type": "markdown",
   "metadata": {},
   "source": [
    "# Other Evaluation Method"
   ]
  },
  {
   "cell_type": "markdown",
   "metadata": {},
   "source": [
    "# Model Evaluation (Normal Train Test Split)"
   ]
  },
  {
   "cell_type": "code",
   "execution_count": 51,
   "metadata": {},
   "outputs": [
    {
     "name": "stdout",
     "output_type": "stream",
     "text": [
      "Testing accuracy of the model is 96.66666666666667 %\n",
      "Confusion Matrix:\n",
      "[[ 0  2]\n",
      " [ 0 58]]\n",
      "              precision    recall  f1-score   support\n",
      "\n",
      "           0       0.00      0.00      0.00         2\n",
      "           1       0.97      1.00      0.98        58\n",
      "\n",
      "    accuracy                           0.97        60\n",
      "   macro avg       0.48      0.50      0.49        60\n",
      "weighted avg       0.93      0.97      0.95        60\n",
      "\n"
     ]
    },
    {
     "name": "stderr",
     "output_type": "stream",
     "text": [
      "/opt/conda/lib/python3.8/site-packages/sklearn/metrics/_classification.py:1327: UndefinedMetricWarning: Precision and F-score are ill-defined and being set to 0.0 in labels with no predicted samples. Use `zero_division` parameter to control this behavior.\n",
      "  _warn_prf(average, modifier, msg_start, len(result))\n",
      "/opt/conda/lib/python3.8/site-packages/sklearn/metrics/_classification.py:1327: UndefinedMetricWarning: Precision and F-score are ill-defined and being set to 0.0 in labels with no predicted samples. Use `zero_division` parameter to control this behavior.\n",
      "  _warn_prf(average, modifier, msg_start, len(result))\n",
      "/opt/conda/lib/python3.8/site-packages/sklearn/metrics/_classification.py:1327: UndefinedMetricWarning: Precision and F-score are ill-defined and being set to 0.0 in labels with no predicted samples. Use `zero_division` parameter to control this behavior.\n",
      "  _warn_prf(average, modifier, msg_start, len(result))\n"
     ]
    },
    {
     "data": {
      "image/png": "[encoded data removed]",
      "text/plain": [
       "<Figure size 432x288 with 2 Axes>"
      ]
     },
     "metadata": {
      "needs_background": "light"
     },
     "output_type": "display_data"
    }
   ],
   "source": [
    "# y_test\n",
    "\n",
    "from sklearn.metrics import accuracy_score, confusion_matrix, classification_report, ConfusionMatrixDisplay\n",
    "\n",
    "# get accuracy score\n",
    "accuracy_major = accuracy_score(y_test, y_pred) #None\n",
    "print('Testing accuracy of the model is {} %'.format(accuracy_major*100))\n",
    "\n",
    "# confusion matrix to describe the performance of a classification model\n",
    "print(\"Confusion Matrix:\")\n",
    "print(confusion_matrix(y_test, y_pred)) \n",
    "report = classification_report(y_test, y_pred) \n",
    "print(report)\n",
    "\n",
    "# confusion matrix visualization\n",
    "ConfusionMatrixDisplay.from_predictions(y_test, y_pred)\n",
    "plt.show()"
   ]
  },
  {
   "cell_type": "markdown",
   "metadata": {},
   "source": [
    "# Model Evaluation (SMOTE)"
   ]
  },
  {
   "cell_type": "code",
   "execution_count": 57,
   "metadata": {},
   "outputs": [
    {
     "name": "stderr",
     "output_type": "stream",
     "text": [
      "Exception ignored on calling ctypes callback function: <function _ThreadpoolInfo._find_modules_with_dl_iterate_phdr.<locals>.match_module_callback at 0x7f80638d2ca0>\n",
      "Traceback (most recent call last):\n",
      "  File \"/opt/conda/lib/python3.8/site-packages/threadpoolctl.py\", line 400, in match_module_callback\n",
      "    self._make_module_from_path(filepath)\n",
      "  File \"/opt/conda/lib/python3.8/site-packages/threadpoolctl.py\", line 515, in _make_module_from_path\n",
      "    module = module_class(filepath, prefix, user_api, internal_api)\n",
      "  File \"/opt/conda/lib/python3.8/site-packages/threadpoolctl.py\", line 606, in __init__\n",
      "    self.version = self.get_version()\n",
      "  File \"/opt/conda/lib/python3.8/site-packages/threadpoolctl.py\", line 646, in get_version\n",
      "    config = get_config().split()\n",
      "AttributeError: 'NoneType' object has no attribute 'split'\n"
     ]
    },
    {
     "name": "stdout",
     "output_type": "stream",
     "text": [
      "Shape of X before SMOTE: (198, 4019)\n",
      "Shape of X after SMOTE: (362, 4019)\n",
      "\n",
      "Balance of positive and negative classes (%):\n"
     ]
    },
    {
     "data": {
      "text/plain": [
       "1    50.0\n",
       "0    50.0\n",
       "Name: y, dtype: float64"
      ]
     },
     "execution_count": 57,
     "metadata": {},
     "output_type": "execute_result"
    }
   ],
   "source": [
    "# smote to handle class imbalance problem\n",
    "\n",
    "sm = SMOTE(random_state = 42)\n",
    "\n",
    "X_sm, y_sm = sm.fit_resample(hstack([csr_matrix(dense.iloc[:, 3:].to_numpy()), sparse]).toarray(), dense.iloc[:, 0]) #sm.fit_resample(dense.iloc[:, 3:], dense.iloc[:, 0])\n",
    "\n",
    "print(f'''Shape of X before SMOTE: {allX.shape}\n",
    "Shape of X after SMOTE: {X_sm.shape}''')\n",
    "\n",
    "print('\\nBalance of positive and negative classes (%):')\n",
    "y_sm.value_counts(normalize=True) * 100"
   ]
  },
  {
   "cell_type": "code",
   "execution_count": 58,
   "metadata": {},
   "outputs": [],
   "source": [
    "X_train, X_test, y_train, y_test = train_test_split(\n",
    "    X_sm, y_sm, test_size=0.35, random_state=42\n",
    ")"
   ]
  },
  {
   "cell_type": "code",
   "execution_count": 59,
   "metadata": {},
   "outputs": [
    {
     "name": "stdout",
     "output_type": "stream",
     "text": [
      "[-0.2705773   0.10580593 -0.10163459 ... -0.0428414   0.12898005\n",
      " -0.0017336 ]\n",
      "Training Dataset\n",
      "Original Features Counts: 4019\n",
      "Output Features Counts: 3031\n",
      "Testing Dataset\n",
      "Original Features Counts: 4019\n",
      "Output Features Counts: 3031\n"
     ]
    },
    {
     "name": "stderr",
     "output_type": "stream",
     "text": [
      "/opt/conda/lib/python3.8/site-packages/scipy/stats/stats.py:4023: PearsonRConstantInputWarning: An input array is constant; the correlation coefficient is not defined.\n",
      "  warnings.warn(PearsonRConstantInputWarning())\n"
     ]
    }
   ],
   "source": [
    "cors = computeCorrelaion(X_train, y_train)\n",
    "threshold = 0.05\n",
    "print(\"Training Dataset\")\n",
    "X_train = filter_features(X_train, cors, threshold)\n",
    "print(\"Testing Dataset\")\n",
    "X_test =  filter_features(X_test, cors, threshold)"
   ]
  },
  {
   "cell_type": "code",
   "execution_count": 60,
   "metadata": {},
   "outputs": [],
   "source": [
    "model = LogitNet(n_splits =5)\n",
    "model = model.fit(X_train, y_train)\n"
   ]
  },
  {
   "cell_type": "code",
   "execution_count": 61,
   "metadata": {},
   "outputs": [
    {
     "data": {
      "text/plain": [
       "array([1, 1, 1, 0, 0, 0, 1, 1, 0, 1, 0, 1, 0, 1, 1, 0, 0, 0, 0, 1, 1, 0,\n",
       "       1, 0, 0, 0, 0, 1, 0, 0, 1, 0, 1, 0, 1, 1, 1, 1, 0, 1, 1, 0, 1, 0,\n",
       "       1, 0, 1, 1, 1, 0, 0, 1, 0, 0, 1, 0, 1, 1, 0, 1, 0, 0, 1, 0, 0, 1,\n",
       "       0, 0, 0, 1, 1, 0, 0, 0, 0, 0, 1, 1, 0, 1, 1, 0, 1, 1, 1, 0, 0, 0,\n",
       "       0, 1, 0, 0, 0, 0, 1, 0, 1, 0, 1, 1, 0, 0, 0, 0, 1, 1, 0, 0, 1, 0,\n",
       "       0, 0, 0, 1, 0, 1, 0, 1, 0, 1, 0, 0, 1, 1, 1, 1, 1])"
      ]
     },
     "execution_count": 61,
     "metadata": {},
     "output_type": "execute_result"
    }
   ],
   "source": [
    "y_pred_sm = model.predict(X_test)\n",
    "\n",
    "y_pred_sm"
   ]
  },
  {
   "cell_type": "code",
   "execution_count": 62,
   "metadata": {},
   "outputs": [
    {
     "name": "stdout",
     "output_type": "stream",
     "text": [
      "Testing accuracy of the model is 90.5511811023622 %\n",
      "Confusion Matrix:\n",
      "[[58  2]\n",
      " [10 57]]\n",
      "              precision    recall  f1-score   support\n",
      "\n",
      "           0       0.85      0.97      0.91        60\n",
      "           1       0.97      0.85      0.90        67\n",
      "\n",
      "    accuracy                           0.91       127\n",
      "   macro avg       0.91      0.91      0.91       127\n",
      "weighted avg       0.91      0.91      0.91       127\n",
      "\n"
     ]
    },
    {
     "data": {
      "image/png": "[encoded data removed]",
      "text/plain": [
       "<Figure size 432x288 with 2 Axes>"
      ]
     },
     "metadata": {
      "needs_background": "light"
     },
     "output_type": "display_data"
    }
   ],
   "source": [
    "from sklearn.metrics import confusion_matrix\n",
    "\n",
    "# get accuracy score\n",
    "accuracy_major = accuracy_score(y_test, y_pred_sm) #None\n",
    "print('Testing accuracy of the model is {} %'.format(accuracy_major*100))\n",
    "\n",
    "# confusion matrix to describe the performance of a classification model\n",
    "print(\"Confusion Matrix:\")\n",
    "print(confusion_matrix(y_test, y_pred_sm)) \n",
    "report = classification_report(y_test, y_pred_sm) \n",
    "print(report)\n",
    "\n",
    "# confusion matrix visualization\n",
    "ConfusionMatrixDisplay.from_predictions(y_test, y_pred_sm)\n",
    "plt.show()"
   ]
  }
 ],
 "metadata": {
  "instance_type": "ml.t3.medium",
  "kernelspec": {
   "display_name": "Python 3 (Data Science 2.0)",
   "language": "python",
   "name": "python3__SAGEMAKER_INTERNAL__arn:aws:sagemaker:us-east-1:081325390199:image/sagemaker-data-science-38"
  },
  "language_info": {
   "codemirror_mode": {
    "name": "ipython",
    "version": 3
   },
   "file_extension": ".py",
   "mimetype": "text/x-python",
   "name": "python",
   "nbconvert_exporter": "python",
   "pygments_lexer": "ipython3",
   "version": "3.8.13"
  },
  "vscode": {
   "interpreter": {
    "hash": "e1ba00463b8c7ae25dbb9797a1bb1c7d1e93ad00aba69fc8bc4575f9a7c94cd3"
   }
  }
 },
 "nbformat": 4,
 "nbformat_minor": 4
}
